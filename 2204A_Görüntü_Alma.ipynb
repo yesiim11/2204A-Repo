{
 "cells": [
  {
   "cell_type": "code",
   "execution_count": 1,
   "id": "32de29c4-438e-446c-b83a-7b6a53074534",
   "metadata": {},
   "outputs": [],
   "source": [
    "from random import random, sample\n",
    "import numpy as np\n",
    "\n",
    "from astropy import coordinates\n",
    "from astropy.io import fits\n",
    "from astroquery.mast import Observations\n",
    "from astropy.table import vstack, Table\n",
    "\n",
    "import matplotlib.pyplot as plt\n",
    "from PIL import Image\n",
    "\n",
    "import sys\n",
    "import os\n",
    "import time\n",
    "import re\n",
    "import json\n",
    " \n",
    "import requests\n",
    "from urllib.parse import quote as urlencode"
   ]
  },
  {
   "cell_type": "code",
   "execution_count": 2,
   "id": "eb6064c0-b9c2-45f9-a6e4-583f49e5ca57",
   "metadata": {},
   "outputs": [],
   "source": [
    "def get_image_from_fits(filepath: str):\n",
    "    img = None\n",
    "    try:\n",
    "        # Open the FITS file\n",
    "        with fits.open(filepath) as hdul:\n",
    "            # Access the image data (usually in the first extension, index 1)\n",
    "            img = hdul[1].data if len(hdul) > 1 else hdul[0].data\n",
    "            img[np.isnan(img)] = 0\n",
    "    except Exception as e:\n",
    "        print(f\"An error occurred while reading the FITS file: {e}\")\n",
    "    return img\n"
   ]
  },
  {
   "cell_type": "code",
   "execution_count": null,
   "id": "1392d150-3a01-4df9-a87d-0f6bfc0ab7f0",
   "metadata": {},
   "outputs": [],
   "source": []
  }
 ],
 "metadata": {
  "kernelspec": {
   "display_name": "Python 3 (ipykernel)",
   "language": "python",
   "name": "python3"
  },
  "language_info": {
   "codemirror_mode": {
    "name": "ipython",
    "version": 3
   },
   "file_extension": ".py",
   "mimetype": "text/x-python",
   "name": "python",
   "nbconvert_exporter": "python",
   "pygments_lexer": "ipython3",
   "version": "3.8.18"
  }
 },
 "nbformat": 4,
 "nbformat_minor": 5
}
