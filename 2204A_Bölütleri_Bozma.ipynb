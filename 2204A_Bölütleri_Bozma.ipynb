{
 "cells": [
  {
   "cell_type": "code",
   "execution_count": 1,
   "id": "59778206-76b9-4834-8740-cfdd712c7c25",
   "metadata": {},
   "outputs": [],
   "source": [
    "from random import random, sample\n",
    "import numpy as np\n",
    "\n",
    "from astropy import coordinates\n",
    "from astropy.io import fits\n",
    "from astroquery.mast import Observations\n",
    "from astropy.table import vstack, Table\n",
    "\n",
    "import matplotlib.pyplot as plt\n",
    "from PIL import Image\n",
    "\n",
    "import sys\n",
    "import os\n",
    "import time\n",
    "import re\n",
    "import json\n",
    " \n",
    "import requests\n",
    "from urllib.parse import quote as urlencode\n"
   ]
  },
  {
   "cell_type": "code",
   "execution_count": 2,
   "id": "3705a749-7e2f-462e-8a03-7517d7d8e14e",
   "metadata": {},
   "outputs": [],
   "source": [
    "%run 2204A_Bozulma.ipynb"
   ]
  },
  {
   "cell_type": "code",
   "execution_count": 3,
   "id": "9a69a3af-c68c-4ec7-9b5d-a14660116861",
   "metadata": {},
   "outputs": [],
   "source": [
    "def distort_sections(sections: np.ndarray, fname:str, output_folder: str):\n",
    "\n",
    "    for i in range(sections.shape[0]):\n",
    "        #processed_data = distort(sections[i], psf)\n",
    "        np.save(output_folder + fname + \"sec\" + str(i), sections[i])\n",
    "    "
   ]
  },
  {
   "cell_type": "code",
   "execution_count": null,
   "id": "487b50d5-cddd-4feb-a034-051e506d77ba",
   "metadata": {},
   "outputs": [],
   "source": []
  }
 ],
 "metadata": {
  "kernelspec": {
   "display_name": "Python 3 (ipykernel)",
   "language": "python",
   "name": "python3"
  },
  "language_info": {
   "codemirror_mode": {
    "name": "ipython",
    "version": 3
   },
   "file_extension": ".py",
   "mimetype": "text/x-python",
   "name": "python",
   "nbconvert_exporter": "python",
   "pygments_lexer": "ipython3",
   "version": "3.8.18"
  }
 },
 "nbformat": 4,
 "nbformat_minor": 5
}
