{
 "cells": [
  {
   "cell_type": "code",
   "execution_count": 1,
   "id": "541ee9ee-057e-49d0-8277-4a8258e7359e",
   "metadata": {},
   "outputs": [],
   "source": [
    "from random import random, sample\n",
    "import numpy as np\n",
    "\n",
    "from astropy import coordinates\n",
    "from astropy.io import fits\n",
    "from astroquery.mast import Observations\n",
    "from astropy.table import vstack, Table\n",
    "\n",
    "import matplotlib.pyplot as plt\n",
    "from PIL import Image\n",
    "\n",
    "import sys\n",
    "import os\n",
    "import time\n",
    "import re\n",
    "import json\n",
    " \n",
    "import requests\n",
    "from urllib.parse import quote as urlencode"
   ]
  },
  {
   "cell_type": "code",
   "execution_count": 4,
   "id": "11b1b26b-fbea-4d99-aa78-6b096b4d6ac7",
   "metadata": {},
   "outputs": [],
   "source": [
    "def download_the_data(products, folder_path: str):\n",
    "\n",
    "    Observations.download_products(products = products, download_dir= folder_path, flat=True)\n"
   ]
  },
  {
   "cell_type": "code",
   "execution_count": null,
   "id": "86cc710c-bb13-417c-b32c-544ddc668a5a",
   "metadata": {},
   "outputs": [],
   "source": []
  }
 ],
 "metadata": {
  "kernelspec": {
   "display_name": "Python 3 (ipykernel)",
   "language": "python",
   "name": "python3"
  },
  "language_info": {
   "codemirror_mode": {
    "name": "ipython",
    "version": 3
   },
   "file_extension": ".py",
   "mimetype": "text/x-python",
   "name": "python",
   "nbconvert_exporter": "python",
   "pygments_lexer": "ipython3",
   "version": "3.8.18"
  }
 },
 "nbformat": 4,
 "nbformat_minor": 5
}
