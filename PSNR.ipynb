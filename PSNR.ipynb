{
 "cells": [
  {
   "cell_type": "code",
   "execution_count": 29,
   "id": "87078df2",
   "metadata": {
    "scrolled": true
   },
   "outputs": [],
   "source": [
    "import cv2\n",
    "import numpy as np\n",
    "\n",
    "@jit(target_backend='cuda') \n",
    "def psnr(img1, img2):\n",
    "    \n",
    "    first_layer=img1\n",
    "    second_layer=img2\n",
    "    \n",
    "    difference= np.subtract(first_layer, second_layer)\n",
    "    \n",
    "    squared_difference=np.square(difference)\n",
    "    \n",
    "    mse= np.mean(squared_difference)# psnr mse kullanılarak hesaplanır\n",
    "    \n",
    "    max_pixel=np.max(first_layer)\n",
    "    max_pixel2=np.max(second_layer)\n",
    "    psnr= 10*np.log10((max_pixel)*(max_pixel)/(mse)); \n",
    "    \n",
    "    return psnr\n",
    "\n",
    "    psnr_score=calculate_psnr(first_layer, second_layer)\n",
    "    print(psnr_score)\n",
    "    return psnr_score\n",
    "    \n",
    "    "
   ]
  },
  {
   "cell_type": "code",
   "execution_count": null,
   "id": "ee7c35b6",
   "metadata": {},
   "outputs": [],
   "source": []
  }
 ],
 "metadata": {
  "kernelspec": {
   "display_name": "Python 3 (ipykernel)",
   "language": "python",
   "name": "python3"
  },
  "language_info": {
   "codemirror_mode": {
    "name": "ipython",
    "version": 3
   },
   "file_extension": ".py",
   "mimetype": "text/x-python",
   "name": "python",
   "nbconvert_exporter": "python",
   "pygments_lexer": "ipython3",
   "version": "3.8.18"
  }
 },
 "nbformat": 4,
 "nbformat_minor": 5
}
