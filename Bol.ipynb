{
 "cells": [
  {
   "cell_type": "code",
   "execution_count": 7,
   "id": "9e72869a-3719-4629-b962-8441fb2356d2",
   "metadata": {},
   "outputs": [],
   "source": [
    "from random import random, sample\n",
    "import numpy as np\n",
    "\n",
    "from astropy import coordinates\n",
    "from astropy.io import fits\n",
    "from astroquery.mast import Observations\n",
    "from astropy.table import vstack, Table, unique\n",
    "\n",
    "import matplotlib.pyplot as plt\n",
    "from PIL import Image\n",
    "\n",
    "import sys\n",
    "import os\n",
    "import time\n",
    "import re\n",
    "import json\n",
    " \n",
    "import requests\n",
    "from urllib.parse import quote as urlencode"
   ]
  },
  {
   "cell_type": "code",
   "execution_count": 26,
   "id": "f3291db1-52f1-4313-9ddc-f120ab29b7ff",
   "metadata": {},
   "outputs": [
    {
     "name": "stderr",
     "output_type": "stream",
     "text": [
      "WARNING: OverflowError converting to IntType in column size, reverting to String. [astropy.io.ascii.fastbasic]\n"
     ]
    }
   ],
   "source": [
    "table = Table.read(\"download_table.txt\", format= \"ascii\")"
   ]
  },
  {
   "cell_type": "code",
   "execution_count": 28,
   "id": "f2d4e278-201b-4c84-abe5-37044e73245f",
   "metadata": {},
   "outputs": [],
   "source": [
    "table[:3100].write(\"C:\\\\Users\\\\hp\\\\Desktop\\\\04A\\\\deniz_download.txt\", format=\"ascii\")\n",
    "table[3100:6200].write(\"C:\\\\Users\\\\hp\\\\Desktop\\\\04A\\\\yesim_download.txt\", format=\"ascii\")\n",
    "table[6200:].write(\"C:\\\\Users\\\\hp\\\\Desktop\\\\04A\\\\mac_download.txt\", format=\"ascii\")\n"
   ]
  },
  {
   "cell_type": "code",
   "execution_count": 27,
   "id": "c2f4b77a-5bf4-4698-a874-7aea06d76ee2",
   "metadata": {},
   "outputs": [
    {
     "data": {
      "text/html": [
       "<div><i>Table length=9541</i>\n",
       "<table id=\"table2885822671024\" class=\"table-striped table-bordered table-condensed\">\n",
       "<thead><tr><th>obsID</th><th>obs_collection</th><th>dataproduct_type</th><th>obs_id</th><th>description</th><th>type</th><th>dataURI</th><th>productType</th><th>productGroupDescription</th><th>productSubGroupDescription</th><th>productDocumentationURL</th><th>project</th><th>prvversion</th><th>proposal_id</th><th>productFilename</th><th>size</th><th>parent_obsid</th><th>dataRights</th><th>calib_level</th><th>filters</th></tr></thead>\n",
       "<thead><tr><th>int32</th><th>str3</th><th>str5</th><th>str48</th><th>str61</th><th>str1</th><th>str74</th><th>str7</th><th>str28</th><th>str3</th><th>int32</th><th>str7</th><th>str20</th><th>int32</th><th>str57</th><th>str10</th><th>int32</th><th>str6</th><th>int32</th><th>str13</th></tr></thead>\n",
       "<tr><td>24838726</td><td>HST</td><td>image</td><td>jccd06010</td><td>DADS DRZ file - Calibrated combined image ACS/WFC3/WFPC2/STIS</td><td>D</td><td>mast:HST/product/jccd06010_drz.fits</td><td>SCIENCE</td><td>Minimum Recommended Products</td><td>DRZ</td><td>--</td><td>CALACS</td><td>DrizzlePac 3.6.2</td><td>13412</td><td>jccd06010_drz.fits</td><td>224674560</td><td>24838726</td><td>PUBLIC</td><td>3</td><td>F606W</td></tr>\n",
       "<tr><td>24838726</td><td>HST</td><td>image</td><td>jccd06010</td><td>DADS DRZ file - Calibrated combined image ACS/WFC3/WFPC2/STIS</td><td>D</td><td>mast:HST/product/jccd06010_drz.fits</td><td>SCIENCE</td><td>Minimum Recommended Products</td><td>DRZ</td><td>--</td><td>CALACS</td><td>DrizzlePac 3.6.2</td><td>13412</td><td>jccd06010_drz.fits</td><td>224674560</td><td>26463116</td><td>PUBLIC</td><td>3</td><td>F606W</td></tr>\n",
       "<tr><td>83341374</td><td>HST</td><td>image</td><td>iepo2p010</td><td>DADS DRZ file - Calibrated combined image ACS/WFC3/WFPC2/STIS</td><td>D</td><td>mast:HST/product/iepo2p010_drz.fits</td><td>SCIENCE</td><td>Minimum Recommended Products</td><td>DRZ</td><td>--</td><td>CALWF3</td><td>3.7.1 (Oct-18-2023)</td><td>16741</td><td>iepo2p010_drz.fits</td><td>217673280</td><td>83341374</td><td>PUBLIC</td><td>3</td><td>F275W</td></tr>\n",
       "<tr><td>83341374</td><td>HST</td><td>image</td><td>iepo2p010</td><td>DADS DRZ file - Calibrated combined image ACS/WFC3/WFPC2/STIS</td><td>D</td><td>mast:HST/product/iepo2p010_drz.fits</td><td>SCIENCE</td><td>Minimum Recommended Products</td><td>DRZ</td><td>--</td><td>CALWF3</td><td>3.7.1 (Oct-18-2023)</td><td>16741</td><td>iepo2p010_drz.fits</td><td>217673280</td><td>83342070</td><td>PUBLIC</td><td>3</td><td>F275W</td></tr>\n",
       "<tr><td>23819879</td><td>HST</td><td>image</td><td>ib1b92lrq</td><td>DADS DRZ file - Calibrated combined image ACS/WFC3/WFPC2/STIS</td><td>S</td><td>mast:HST/product/ib1b92lrq_drz.fits</td><td>SCIENCE</td><td>Minimum Recommended Products</td><td>DRZ</td><td>--</td><td>CALWF3</td><td>3.7.1 (Oct-18-2023)</td><td>11657</td><td>ib1b92lrq_drz.fits</td><td>3435840</td><td>23819879</td><td>PUBLIC</td><td>3</td><td>F814W</td></tr>\n",
       "<tr><td>23819879</td><td>HST</td><td>image</td><td>ib1b92lrq</td><td>DADS DRZ file - Calibrated combined image ACS/WFC3/WFPC2/STIS</td><td>S</td><td>mast:HST/product/ib1b92lrq_drz.fits</td><td>SCIENCE</td><td>Minimum Recommended Products</td><td>DRZ</td><td>--</td><td>CALWF3</td><td>3.7.1 (Oct-18-2023)</td><td>11657</td><td>ib1b92lrq_drz.fits</td><td>3435840</td><td>26506153</td><td>PUBLIC</td><td>3</td><td>F814W</td></tr>\n",
       "<tr><td>24795493</td><td>HST</td><td>image</td><td>ib1b92020</td><td>DADS DRZ file - Calibrated combined image ACS/WFC3/WFPC2/STIS</td><td>D</td><td>mast:HST/product/ib1b92020_drz.fits</td><td>SCIENCE</td><td>Minimum Recommended Products</td><td>DRZ</td><td>--</td><td>CALWF3</td><td>3.7.1 (Oct-18-2023)</td><td>11657</td><td>ib1b92020_drz.fits</td><td>3438720</td><td>24795493</td><td>PUBLIC</td><td>3</td><td>F200LP</td></tr>\n",
       "<tr><td>24795493</td><td>HST</td><td>image</td><td>ib1b92020</td><td>DADS DRZ file - Calibrated combined image ACS/WFC3/WFPC2/STIS</td><td>D</td><td>mast:HST/product/ib1b92020_drz.fits</td><td>SCIENCE</td><td>Minimum Recommended Products</td><td>DRZ</td><td>--</td><td>CALWF3</td><td>3.7.1 (Oct-18-2023)</td><td>11657</td><td>ib1b92020_drz.fits</td><td>3438720</td><td>26506130</td><td>PUBLIC</td><td>3</td><td>F200LP</td></tr>\n",
       "<tr><td>24795494</td><td>HST</td><td>image</td><td>ib1b92030</td><td>DADS DRZ file - Calibrated combined image ACS/WFC3/WFPC2/STIS</td><td>D</td><td>mast:HST/product/ib1b92030_drz.fits</td><td>SCIENCE</td><td>Minimum Recommended Products</td><td>DRZ</td><td>--</td><td>CALWF3</td><td>3.7.1 (Oct-18-2023)</td><td>11657</td><td>ib1b92030_drz.fits</td><td>3438720</td><td>24795494</td><td>PUBLIC</td><td>3</td><td>F350LP</td></tr>\n",
       "<tr><td>24795494</td><td>HST</td><td>image</td><td>ib1b92030</td><td>DADS DRZ file - Calibrated combined image ACS/WFC3/WFPC2/STIS</td><td>D</td><td>mast:HST/product/ib1b92030_drz.fits</td><td>SCIENCE</td><td>Minimum Recommended Products</td><td>DRZ</td><td>--</td><td>CALWF3</td><td>3.7.1 (Oct-18-2023)</td><td>11657</td><td>ib1b92030_drz.fits</td><td>3438720</td><td>26506172</td><td>PUBLIC</td><td>3</td><td>F350LP</td></tr>\n",
       "<tr><td>...</td><td>...</td><td>...</td><td>...</td><td>...</td><td>...</td><td>...</td><td>...</td><td>...</td><td>...</td><td>...</td><td>...</td><td>...</td><td>...</td><td>...</td><td>...</td><td>...</td><td>...</td><td>...</td><td>...</td></tr>\n",
       "<tr><td>207446380</td><td>HST</td><td>image</td><td>hst_8090_di_wfpc2_pc_f814w_u581di</td><td>HAP fits science image</td><td>D</td><td>mast:HST/product/hst_8090_di_wfpc2_pc_f814w_u581di_drz.fits</td><td>SCIENCE</td><td>Minimum Recommended Products</td><td>DRZ</td><td>--</td><td>HAP-SVM</td><td>DrizzlePac 3.6.2</td><td>8090</td><td>hst_8090_di_wfpc2_pc_f814w_u581di_drz.fits</td><td>198172800</td><td>24610839</td><td>PUBLIC</td><td>3</td><td>F814W</td></tr>\n",
       "<tr><td>207446380</td><td>HST</td><td>image</td><td>hst_8090_di_wfpc2_pc_f814w_u581di</td><td>HAP fits science image</td><td>D</td><td>mast:HST/product/hst_8090_di_wfpc2_pc_f814w_u581di_drz.fits</td><td>SCIENCE</td><td>Minimum Recommended Products</td><td>DRZ</td><td>--</td><td>HAP-SVM</td><td>DrizzlePac 3.6.2</td><td>8090</td><td>hst_8090_di_wfpc2_pc_f814w_u581di_drz.fits</td><td>198172800</td><td>24610840</td><td>PUBLIC</td><td>3</td><td>F814W</td></tr>\n",
       "<tr><td>207446380</td><td>HST</td><td>image</td><td>hst_8090_di_wfpc2_pc_f814w_u581di</td><td>HAP fits science image</td><td>D</td><td>mast:HST/product/hst_8090_di_wfpc2_pc_f814w_u581di_drz.fits</td><td>SCIENCE</td><td>Minimum Recommended Products</td><td>DRZ</td><td>--</td><td>HAP-SVM</td><td>DrizzlePac 3.6.2</td><td>8090</td><td>hst_8090_di_wfpc2_pc_f814w_u581di_drz.fits</td><td>198172800</td><td>207446380</td><td>PUBLIC</td><td>3</td><td>F814W</td></tr>\n",
       "<tr><td>207473889</td><td>HST</td><td>image</td><td>hst_8436_f5_wfpc2_pc_f606w_u5hnf5</td><td>HAP fits science image</td><td>D</td><td>mast:HST/product/hst_8436_f5_wfpc2_pc_f606w_u5hnf5_drz.fits</td><td>SCIENCE</td><td>Minimum Recommended Products</td><td>DRZ</td><td>--</td><td>HAP-SVM</td><td>DrizzlePac 3.6.2</td><td>8436</td><td>hst_8436_f5_wfpc2_pc_f606w_u5hnf5_drz.fits</td><td>190814400</td><td>24619977</td><td>PUBLIC</td><td>3</td><td>F606W</td></tr>\n",
       "<tr><td>207473889</td><td>HST</td><td>image</td><td>hst_8436_f5_wfpc2_pc_f606w_u5hnf5</td><td>HAP fits science image</td><td>D</td><td>mast:HST/product/hst_8436_f5_wfpc2_pc_f606w_u5hnf5_drz.fits</td><td>SCIENCE</td><td>Minimum Recommended Products</td><td>DRZ</td><td>--</td><td>HAP-SVM</td><td>DrizzlePac 3.6.2</td><td>8436</td><td>hst_8436_f5_wfpc2_pc_f606w_u5hnf5_drz.fits</td><td>190814400</td><td>207473889</td><td>PUBLIC</td><td>3</td><td>F606W</td></tr>\n",
       "<tr><td>207474724</td><td>HST</td><td>image</td><td>hst_8436_fl_wfpc2_pc_f606w_u5hnfl</td><td>HAP fits science image</td><td>D</td><td>mast:HST/product/hst_8436_fl_wfpc2_pc_f606w_u5hnfl_drz.fits</td><td>SCIENCE</td><td>Minimum Recommended Products</td><td>DRZ</td><td>--</td><td>HAP-SVM</td><td>DrizzlePac 3.6.2</td><td>8436</td><td>hst_8436_fl_wfpc2_pc_f606w_u5hnfl_drz.fits</td><td>190817280</td><td>24619981</td><td>PUBLIC</td><td>3</td><td>F606W</td></tr>\n",
       "<tr><td>207474724</td><td>HST</td><td>image</td><td>hst_8436_fl_wfpc2_pc_f606w_u5hnfl</td><td>HAP fits science image</td><td>D</td><td>mast:HST/product/hst_8436_fl_wfpc2_pc_f606w_u5hnfl_drz.fits</td><td>SCIENCE</td><td>Minimum Recommended Products</td><td>DRZ</td><td>--</td><td>HAP-SVM</td><td>DrizzlePac 3.6.2</td><td>8436</td><td>hst_8436_fl_wfpc2_pc_f606w_u5hnfl_drz.fits</td><td>190817280</td><td>207474724</td><td>PUBLIC</td><td>3</td><td>F606W</td></tr>\n",
       "<tr><td>207489935</td><td>HST</td><td>image</td><td>hst_8090_dr_wfpc2_pc_f606w_u581dr</td><td>HAP fits science image</td><td>D</td><td>mast:HST/product/hst_8090_dr_wfpc2_pc_f606w_u581dr_drz.fits</td><td>SCIENCE</td><td>Minimum Recommended Products</td><td>DRZ</td><td>--</td><td>HAP-SVM</td><td>DrizzlePac 3.6.2</td><td>8090</td><td>hst_8090_dr_wfpc2_pc_f606w_u581dr_drz.fits</td><td>197784000</td><td>24610868</td><td>PUBLIC</td><td>3</td><td>F606W</td></tr>\n",
       "<tr><td>207489935</td><td>HST</td><td>image</td><td>hst_8090_dr_wfpc2_pc_f606w_u581dr</td><td>HAP fits science image</td><td>D</td><td>mast:HST/product/hst_8090_dr_wfpc2_pc_f606w_u581dr_drz.fits</td><td>SCIENCE</td><td>Minimum Recommended Products</td><td>DRZ</td><td>--</td><td>HAP-SVM</td><td>DrizzlePac 3.6.2</td><td>8090</td><td>hst_8090_dr_wfpc2_pc_f606w_u581dr_drz.fits</td><td>197784000</td><td>24610869</td><td>PUBLIC</td><td>3</td><td>F606W</td></tr>\n",
       "<tr><td>207489935</td><td>HST</td><td>image</td><td>hst_8090_dr_wfpc2_pc_f606w_u581dr</td><td>HAP fits science image</td><td>D</td><td>mast:HST/product/hst_8090_dr_wfpc2_pc_f606w_u581dr_drz.fits</td><td>SCIENCE</td><td>Minimum Recommended Products</td><td>DRZ</td><td>--</td><td>HAP-SVM</td><td>DrizzlePac 3.6.2</td><td>8090</td><td>hst_8090_dr_wfpc2_pc_f606w_u581dr_drz.fits</td><td>197784000</td><td>207489935</td><td>PUBLIC</td><td>3</td><td>F606W</td></tr>\n",
       "</table></div>"
      ],
      "text/plain": [
       "<Table length=9541>\n",
       "  obsID   obs_collection dataproduct_type ... dataRights calib_level filters\n",
       "  int32        str3            str5       ...    str6       int32     str13 \n",
       "--------- -------------- ---------------- ... ---------- ----------- -------\n",
       " 24838726            HST            image ...     PUBLIC           3   F606W\n",
       " 24838726            HST            image ...     PUBLIC           3   F606W\n",
       " 83341374            HST            image ...     PUBLIC           3   F275W\n",
       " 83341374            HST            image ...     PUBLIC           3   F275W\n",
       " 23819879            HST            image ...     PUBLIC           3   F814W\n",
       " 23819879            HST            image ...     PUBLIC           3   F814W\n",
       " 24795493            HST            image ...     PUBLIC           3  F200LP\n",
       " 24795493            HST            image ...     PUBLIC           3  F200LP\n",
       " 24795494            HST            image ...     PUBLIC           3  F350LP\n",
       " 24795494            HST            image ...     PUBLIC           3  F350LP\n",
       "      ...            ...              ... ...        ...         ...     ...\n",
       "207446380            HST            image ...     PUBLIC           3   F814W\n",
       "207446380            HST            image ...     PUBLIC           3   F814W\n",
       "207446380            HST            image ...     PUBLIC           3   F814W\n",
       "207473889            HST            image ...     PUBLIC           3   F606W\n",
       "207473889            HST            image ...     PUBLIC           3   F606W\n",
       "207474724            HST            image ...     PUBLIC           3   F606W\n",
       "207474724            HST            image ...     PUBLIC           3   F606W\n",
       "207489935            HST            image ...     PUBLIC           3   F606W\n",
       "207489935            HST            image ...     PUBLIC           3   F606W\n",
       "207489935            HST            image ...     PUBLIC           3   F606W"
      ]
     },
     "execution_count": 27,
     "metadata": {},
     "output_type": "execute_result"
    }
   ],
   "source": [
    "table"
   ]
  },
  {
   "cell_type": "code",
   "execution_count": null,
   "id": "100c62ae-ace0-4b7c-9770-ada2a1dce762",
   "metadata": {},
   "outputs": [],
   "source": []
  }
 ],
 "metadata": {
  "kernelspec": {
   "display_name": "Python 3 (ipykernel)",
   "language": "python",
   "name": "python3"
  },
  "language_info": {
   "codemirror_mode": {
    "name": "ipython",
    "version": 3
   },
   "file_extension": ".py",
   "mimetype": "text/x-python",
   "name": "python",
   "nbconvert_exporter": "python",
   "pygments_lexer": "ipython3",
   "version": "3.8.18"
  }
 },
 "nbformat": 4,
 "nbformat_minor": 5
}
