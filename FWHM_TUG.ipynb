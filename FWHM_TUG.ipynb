{
 "cells": [
  {
   "cell_type": "code",
   "execution_count": null,
   "id": "db282068-4b0a-4779-b2ce-acc26c70ef9e",
   "metadata": {},
   "outputs": [],
   "source": [
    "from random import random, sample\n",
    "import numpy as np\n",
    "\n",
    "from astropy import coordinates\n",
    "from astropy.io import fits\n",
    "from astroquery.mast import Observations\n",
    "from astropy.table import vstack, Table\n",
    "from numba import jit, cuda \n",
    "import matplotlib.pyplot as plt\n",
    "from PIL import Image\n",
    "\n",
    "import sys\n",
    "import os\n",
    "import time\n",
    "import re\n",
    "import json\n",
    " \n",
    "import requests\n",
    "from urllib.parse import quote as urlencode"
   ]
  },
  {
   "cell_type": "code",
   "execution_count": null,
   "id": "31bbc1d0-fccd-47e6-9225-ec25ac66227b",
   "metadata": {},
   "outputs": [],
   "source": [
    "%run FWHM.ipynb"
   ]
  },
  {
   "cell_type": "code",
   "execution_count": null,
   "id": "5137f8d7-7d32-4ac6-afa3-c20907f2b3eb",
   "metadata": {},
   "outputs": [],
   "source": [
    "dir = \"E:\\\\YAD\\\\YAD_İşlenmiş_TUG\\\\\"\n",
    "\n",
    "distorted_metric = []\n",
    "\n",
    "for filename in os.listdir(dir):\n",
    "    if filename.endswith(\".npy\"):\n",
    "        noisy = np.load(os.join(dir, filename))\n",
    "\n",
    "        distorted_metric.append(fwhm(noisy))\n",
    "\n",
    "        np.save(\"E:\\\\YAD\\\\Sonuçlar\\\\fwhmtug.npy\", np.array(distorted_metric))\n",
    "\n",
    "#EN SON NAN DEĞERLERİ ATMAYI UNUTMA!!!!!!!!!!!!!!!!!\n",
    "#EN SON NAN DEĞERLERİ ATMAYI UNUTMA!!!!!!!!!!!!!!!!!\n",
    "#EN SON NAN DEĞERLERİ ATMAYI UNUTMA!!!!!!!!!!!!!!!!!"
   ]
  }
 ],
 "metadata": {
  "kernelspec": {
   "display_name": "Python 3 (ipykernel)",
   "language": "python",
   "name": "python3"
  },
  "language_info": {
   "codemirror_mode": {
    "name": "ipython",
    "version": 3
   },
   "file_extension": ".py",
   "mimetype": "text/x-python",
   "name": "python",
   "nbconvert_exporter": "python",
   "pygments_lexer": "ipython3",
   "version": "3.8.18"
  }
 },
 "nbformat": 4,
 "nbformat_minor": 5
}
