{
 "cells": [
  {
   "cell_type": "code",
   "execution_count": null,
   "id": "20e40b54-6c20-443f-829a-8b724b60e621",
   "metadata": {},
   "outputs": [],
   "source": [
    "from random import random, sample\n",
    "import numpy as np\n",
    "\n",
    "from astropy import coordinates\n",
    "from astropy.io import fits\n",
    "from astroquery.mast import Observations\n",
    "from astropy.table import vstack, Table\n",
    "from numba import jit, cuda \n",
    "import matplotlib.pyplot as plt\n",
    "from PIL import Image\n",
    "\n",
    "import sys\n",
    "import os\n",
    "import time\n",
    "import re\n",
    "import json\n",
    " \n",
    "import requests\n",
    "from urllib.parse import quote as urlencode"
   ]
  },
  {
   "cell_type": "code",
   "execution_count": null,
   "id": "a33fb207-bffe-40ee-bb83-949a432ef96d",
   "metadata": {},
   "outputs": [],
   "source": [
    "%run FWHM.ipynb"
   ]
  },
  {
   "cell_type": "code",
   "execution_count": null,
   "id": "7c73e8c0-70f1-438d-b525-35e804304cc4",
   "metadata": {},
   "outputs": [],
   "source": [
    "dir = \"E:\\\\YAD\\\\YAD_İşlenmiş_Düzgün\\\\Test\\\\\"\n",
    "pred_dir = \"D:\\\\pred\\\\\"\n",
    "\n",
    "distorted_metric = []\n",
    "pred_metric = []\n",
    "clean_metric = []\n",
    "\n",
    "for filename in os.listdir(dir):\n",
    "    if filename.endswith(\".npy\"):\n",
    "        initial = np.load(os.join(dir, filename))\n",
    "\n",
    "        noisy = initial[0]\n",
    "        clean = initial[1]\n",
    "        pred = noisy + np.load(os.join(pred_dir, \"predmap\" + filename))[0]\n",
    "        \n",
    "        clean_metric.append(fwhm(clean))\n",
    "        distorted_metric.append(fwhm(noisy))\n",
    "        pred_metric.append(fwhm(pred))\n",
    "\n",
    "        np.save(\"E:\\\\YAD\\\\Sonuçlar\\\\fwhmhubbleclean.npy\", np.array(distorted_metric))\n",
    "        np.save(\"E:\\\\YAD\\\\Sonuçlar\\\\fwhmhubbledistorted.npy\", np.array(distorted_metric))\n",
    "        np.save(\"E:\\\\YAD\\\\Sonuçlar\\\\fwhmhubblepred.npy\", np.array(pred_metric))\n",
    "\n",
    "#EN SON NAN DEĞERLERİ ATMAYI UNUTMA!!!!!!!!!!!!!!!!!\n",
    "#EN SON NAN DEĞERLERİ ATMAYI UNUTMA!!!!!!!!!!!!!!!!!\n",
    "#EN SON NAN DEĞERLERİ ATMAYI UNUTMA!!!!!!!!!!!!!!!!!"
   ]
  }
 ],
 "metadata": {
  "kernelspec": {
   "display_name": "Python 3 (ipykernel)",
   "language": "python",
   "name": "python3"
  },
  "language_info": {
   "codemirror_mode": {
    "name": "ipython",
    "version": 3
   },
   "file_extension": ".py",
   "mimetype": "text/x-python",
   "name": "python",
   "nbconvert_exporter": "python",
   "pygments_lexer": "ipython3",
   "version": "3.8.18"
  }
 },
 "nbformat": 4,
 "nbformat_minor": 5
}
