{
 "cells": [
  {
   "cell_type": "code",
   "execution_count": 2,
   "id": "bc7d9585-a809-4b99-8f4f-0eb7bffda587",
   "metadata": {},
   "outputs": [],
   "source": [
    "from random import random, sample\n",
    "import numpy as np\n",
    "\n",
    "from astropy import coordinates\n",
    "from astropy.io import fits\n",
    "from astroquery.mast import Observations\n",
    "from astropy.table import vstack, Table\n",
    "\n",
    "import matplotlib.pyplot as plt\n",
    "from PIL import Image\n",
    "\n",
    "import sys\n",
    "import os\n",
    "import time\n",
    "import re\n",
    "import json\n",
    " \n",
    "import requests\n",
    "from urllib.parse import quote as urlencode"
   ]
  },
  {
   "cell_type": "code",
   "execution_count": 3,
   "id": "120374e9-f7eb-401c-b0e3-e3068343ce14",
   "metadata": {},
   "outputs": [],
   "source": [
    "#Görüntüleri 512*512'lik karelere bölen ve \n",
    "#her bir kesiti 0-1 aralığına normalize eden fonksiyon\n",
    "def process_image(given_image: np.ndarray, SIZE: int):\n",
    "\n",
    "    img = given_image\n",
    "    \n",
    "    rows = img.shape[0]\n",
    "    cols = img.shape[1]\n",
    "\n",
    "    \n",
    "    #Çok küçük görseller elenir, kullanılmaz.\n",
    "    if (rows < 512) or (cols <512):\n",
    "        print(rows)\n",
    "        return -1\n",
    "\n",
    "    \n",
    "    #Tüm nan değerler 0'a eşitlenir.\n",
    "    img[np.isnan(img)] = 0\n",
    "\n",
    "    \n",
    "    #Görsel boyutlarının 512'ye tam bölünmesi sağlanır.\n",
    "    del_rows = (rows // SIZE) * SIZE\n",
    "    del_cols = (cols // SIZE) * SIZE\n",
    "\n",
    "    img = img[:del_rows, :del_cols]\n",
    "    rows = img.shape[0]\n",
    "    cols = img.shape[1]\n",
    "\n",
    "    \n",
    "    #Görsel 512*512'lik kesitlere bölünür.\n",
    "    sections = (img\n",
    "              .reshape(rows // SIZE, SIZE, -1, SIZE)\n",
    "              .swapaxes(1, 2)\n",
    "              .reshape(-1, SIZE, SIZE))\n",
    "\n",
    "    \n",
    "    #Her bir kesit 0-1 aralığına normalize edilir ve sonuç döndürülür.\n",
    "    res = []\n",
    "    for i in range(sections.shape[0]):\n",
    "        new = sections[i]\n",
    "        new = new - np.min(new)\n",
    "        max = np.max(new)\n",
    "        new = new/max\n",
    "        res.append(new)\n",
    "        \n",
    "    return np.array(res)"
   ]
  },
  {
   "cell_type": "code",
   "execution_count": null,
   "id": "1a7ccafe-8d51-4e00-8d9a-0cd698ac6f59",
   "metadata": {},
   "outputs": [],
   "source": []
  }
 ],
 "metadata": {
  "kernelspec": {
   "display_name": "Python 3 (ipykernel)",
   "language": "python",
   "name": "python3"
  },
  "language_info": {
   "codemirror_mode": {
    "name": "ipython",
    "version": 3
   },
   "file_extension": ".py",
   "mimetype": "text/x-python",
   "name": "python",
   "nbconvert_exporter": "python",
   "pygments_lexer": "ipython3",
   "version": "3.8.18"
  }
 },
 "nbformat": 4,
 "nbformat_minor": 5
}
