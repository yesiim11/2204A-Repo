{
 "cells": [
  {
   "cell_type": "code",
   "execution_count": 2,
   "id": "d9c36412-c1ce-4c43-bff5-809d14a6f175",
   "metadata": {},
   "outputs": [],
   "source": [
    "def generate_coords(cnt: int):\n",
    "    \n",
    "    \"\"\"\n",
    "        RA should be in the range [0, 360].\n",
    "        Dec should be in the range [-90, 90].\n",
    "    \"\"\"\n",
    "\n",
    "    coords = [] #boş bir liste\n",
    "\n",
    "    for i in range(cnt):\n",
    "\n",
    "        #Belirtilen aralıklarda istenilen sayı (cnt) kadar RA ve DEC değerleri oluşturur (koordinat)\n",
    "        \n",
    "        rand_RA = random() * 360\n",
    "        rand_DEC = (random() - 0.5) * 180\n",
    "\n",
    "        new_coord_object = coordinates.SkyCoord(rand_RA, rand_DEC, unit='deg')\n",
    "        coords.append(new_coord_object)\n",
    "\n",
    "    return coords"
   ]
  },
  {
   "cell_type": "code",
   "execution_count": null,
   "id": "c814f889-c577-4671-9b2b-8c1e236ae495",
   "metadata": {},
   "outputs": [],
   "source": []
  }
 ],
 "metadata": {
  "kernelspec": {
   "display_name": "Python 3 (ipykernel)",
   "language": "python",
   "name": "python3"
  },
  "language_info": {
   "codemirror_mode": {
    "name": "ipython",
    "version": 3
   },
   "file_extension": ".py",
   "mimetype": "text/x-python",
   "name": "python",
   "nbconvert_exporter": "python",
   "pygments_lexer": "ipython3",
   "version": "3.8.18"
  }
 },
 "nbformat": 4,
 "nbformat_minor": 5
}
