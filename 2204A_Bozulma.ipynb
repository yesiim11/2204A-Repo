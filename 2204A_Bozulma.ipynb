{
 "cells": [
  {
   "cell_type": "code",
   "execution_count": 1,
   "id": "ce6f5753-b661-4585-9f3c-398b1eac7c0c",
   "metadata": {},
   "outputs": [],
   "source": [
    "import numpy as np\n",
    "import matplotlib.pyplot as plt\n",
    "from scipy.special import jn  # Bessel fonksiyonu\n",
    "from scipy.signal import convolve2d\n",
    "from scipy.signal import fftconvolve\n",
    "from aotools.turbulence.phasescreen import ft_phase_screen\n",
    "from scipy.fftpack import fft2, ifft2\n",
    "from scipy.stats import norm"
   ]
  },
  {
   "cell_type": "code",
   "execution_count": 2,
   "id": "cea31232-9ac1-4306-b67c-49de422df800",
   "metadata": {},
   "outputs": [],
   "source": [
    "#Hubble verisine uygulamak üzere Airy diski PSF'si oluşturan fonksiyon\n",
    "def airy_disk_psf(size = 512, wavelength = 550e-9, aperture_diameter = 1.5):\n",
    "    \"\"\" Airy disk PSF'si hesaplama (teleskop merceği için). \"\"\"\n",
    "    \n",
    "    # Görüntü merkezi\n",
    "    center = size // 2\n",
    "    x, y = np.meshgrid(np.arange(size) - center, np.arange(size) - center)\n",
    "\n",
    "    # Hipotenüs\n",
    "    r = np.sqrt(x**2 + y**2)\n",
    "\n",
    "    # Dalga sayısı k = 2*pi / λ\n",
    "    k = 2 * np.pi / wavelength\n",
    "\n",
    "    # Airy disk fonksiyonu oluşturulur. (Bessel fonksiyonu kullanılarak)\n",
    "    psf = (2 * jn(1, k * r * aperture_diameter / 2) / (k * r * aperture_diameter / 2))**2\n",
    "    psf[np.isnan(psf)] = 0  # r = 0 olduğunda oluşan NaN'leri düzelt\n",
    "    \n",
    "    #Normalize ederek döndürülür.\n",
    "    return psf / np.sum(psf)  \n",
    "\n"
   ]
  },
  {
   "cell_type": "code",
   "execution_count": 3,
   "id": "8a018730-9c09-49b0-8431-9df3703d0e9b",
   "metadata": {},
   "outputs": [],
   "source": [
    "#Hubble verisine uygulamak üzere AOtools ft_phase_screen() fonksiyonunu kullanarak \n",
    "#atmosferik faz ekranı oluşturan fonksiyon. Faz ekranı parametrelerinin dağılımı belirlenirken\n",
    "#TUG'da ölçülen Fried parametresi değerleri göz önüne alınmıştır.\n",
    "\n",
    "def atmospheric_phase_screen(size):\n",
    "\n",
    "    l0 = 1e-3\n",
    "    delta = 0.001\n",
    "    L0 = np.random.uniform(10,20)\n",
    "    r0=np.random.normal(0.04,0.01)\n",
    "    \n",
    "    phase_screen = ft_phase_screen(r0=r0,N=size, delta = delta, L0=L0, l0=l0)\n",
    "    return phase_screen\n",
    "    "
   ]
  },
  {
   "cell_type": "code",
   "execution_count": null,
   "id": "371390da-9e32-4462-8697-44a9dfb76839",
   "metadata": {},
   "outputs": [],
   "source": [
    "#Faz ekranını görüntüye uygulayan fonksiyon (Atmosferik Türbülans)\n",
    "def apply_atmospheric_effects(clean_image: np.ndarray, phase_screen):\n",
    "\n",
    "    #Temiz görsele ileri Fourier dönüşümü uygulanır. (scipy kütüphanesi)\n",
    "    image_ft=fft2(clean_image)\n",
    "\n",
    "    #Faz ekranı uygulanır.\n",
    "    atmospheric_image = image_ft * np.exp(1j * phase_screen)  \n",
    "    \n",
    "    #Ters Fourier dönüşümü uygulanarak döndürlür.\n",
    "    return np.abs(ifft2(atmospheric_image))\n",
    "\n",
    "\n",
    "    \n",
    "#PSF'yi görüntüye uygulayan fonksiyon\n",
    "    def apply_psf(atmospheric_image:np.ndarray, psf):\n",
    "\n",
    "    blurred_image = fftconvolve(atmospheric_image, psf, mode='same')\n",
    "    return blurred_image\n"
   ]
  },
  {
   "cell_type": "code",
   "execution_count": 4,
   "id": "a58b32e0-34a7-48d1-898e-4908b667c4ee",
   "metadata": {},
   "outputs": [],
   "source": [
    "def distort(img: np.ndarray, psf):\n",
    "\n",
    "    ps = atmospheric_phase_screen(size = 512, r0= 0.04, L0=15,delta=0.00001, l0 =1e-3)\n",
    "    atm_img = apply_atmospheric_effects(img, ps)\n",
    "    fnl_img = apply_psf(atm_img, psf)\n",
    "    \n",
    "    return fnl_img\n"
   ]
  }
 ],
 "metadata": {
  "kernelspec": {
   "display_name": "Python 3 (ipykernel)",
   "language": "python",
   "name": "python3"
  },
  "language_info": {
   "codemirror_mode": {
    "name": "ipython",
    "version": 3
   },
   "file_extension": ".py",
   "mimetype": "text/x-python",
   "name": "python",
   "nbconvert_exporter": "python",
   "pygments_lexer": "ipython3",
   "version": "3.8.18"
  }
 },
 "nbformat": 4,
 "nbformat_minor": 5
}
