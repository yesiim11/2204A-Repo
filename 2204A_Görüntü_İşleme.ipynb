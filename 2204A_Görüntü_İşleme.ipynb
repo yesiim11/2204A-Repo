{
 "cells": [
  {
   "cell_type": "code",
   "execution_count": 1,
   "id": "a3d8e5b0-f014-4785-9534-468465df7fdb",
   "metadata": {},
   "outputs": [],
   "source": [
    "from random import random, sample\n",
    "import numpy as np\n",
    "\n",
    "from astropy import coordinates\n",
    "from astroquery.esa.hubble import ESAHubbleClass\n",
    "from astropy.io import fits\n",
    "from astroquery.mast import Observations\n",
    "from astropy.table import vstack, Table\n",
    "\n",
    "import matplotlib.pyplot as plt\n",
    "from PIL import Image\n",
    "from skimage.transform import resize\n",
    "\n",
    "import sys\n",
    "import os\n",
    "import time\n",
    "import re\n",
    "import json\n",
    " \n",
    "import requests\n",
    "from urllib.parse import quote as urlencode"
   ]
  },
  {
   "cell_type": "code",
   "execution_count": null,
   "id": "c041bf6f-8f02-402d-be6e-db85ee531a41",
   "metadata": {},
   "outputs": [],
   "source": []
  },
  {
   "cell_type": "code",
   "execution_count": 2,
   "id": "49b2313b-2444-4526-bffd-09c58510e315",
   "metadata": {},
   "outputs": [],
   "source": [
    "def process_image(img: np.ndarray):\n",
    "\n",
    "    img[np.isnan(img)] = 0\n",
    "    \n",
    "    RES_DIFF_CONST = 34.5  #TUG_RES / HUBBLE_RES\n",
    "    \n",
    "    x_sz = img.shape[0]\n",
    "    y_sz = img.shape[1]\n",
    "\n",
    "    x_cal = x_sz / RES_DIFF_CONST\n",
    "    y_cal = y_sz / RES_DIFF_CONST\n",
    "\n",
    "    x_lower = (RES_DIFF_CONST * 128) * (x_sz//(RES_DIFF_CONST * 128))\n",
    "    x_upper = (RES_DIFF_CONST * 128) * ((x_sz//(RES_DIFF_CONST * 128)) + 1)\n",
    "\n",
    "    print(x_lower)\n",
    "    print(x_upper)\n",
    "    \n",
    "    \n",
    "    y_lower = (RES_DIFF_CONST * 128) * (y_sz//(RES_DIFF_CONST * 128))\n",
    "    y_upper = (RES_DIFF_CONST * 128) * ((y_sz//(RES_DIFF_CONST * 128)) + 1)\n",
    "\n",
    "    x_resize = None\n",
    "    y_resize = None\n",
    "    \n",
    "    if np.abs(x_sz - x_lower) < np.abs(x_sz - x_upper):\n",
    "        x_resize = x_lower / RES_DIFF_CONST\n",
    "\n",
    "    else:\n",
    "        x_resize = x_upper/RES_DIFF_CONST\n",
    "\n",
    "\n",
    "    if np.abs(y_sz - y_lower) < np.abs(y_sz - y_upper):\n",
    "        y_resize = y_lower/RES_DIFF_CONST\n",
    "\n",
    "    else:\n",
    "        y_resize = y_upper/RES_DIFF_CONST\n",
    "\n",
    "    img = resize(img, (x_resize, y_resize))\n",
    "\n",
    "    rows = img.shape[0]\n",
    "    \n",
    "    sections = (img\n",
    "              .reshape(rows // 128, 128, -1, 128)\n",
    "              .swapaxes(1, 2)\n",
    "              .reshape(-1, 128, 128))\n",
    "\n",
    "    return sections"
   ]
  },
  {
   "cell_type": "code",
   "execution_count": null,
   "id": "2c9b7d67-8a12-4d2c-9968-2aece8abfdee",
   "metadata": {},
   "outputs": [],
   "source": []
  }
 ],
 "metadata": {
  "kernelspec": {
   "display_name": "Python 3 (ipykernel)",
   "language": "python",
   "name": "python3"
  },
  "language_info": {
   "codemirror_mode": {
    "name": "ipython",
    "version": 3
   },
   "file_extension": ".py",
   "mimetype": "text/x-python",
   "name": "python",
   "nbconvert_exporter": "python",
   "pygments_lexer": "ipython3",
   "version": "3.8.18"
  }
 },
 "nbformat": 4,
 "nbformat_minor": 5
}
