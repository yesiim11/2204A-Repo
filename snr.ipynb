{
 "cells": [
  {
   "cell_type": "code",
   "execution_count": 1,
   "id": "006295e9-52f8-41f1-9350-0d7be160d290",
   "metadata": {},
   "outputs": [],
   "source": [
    "%run 2204A_Görüntü_Alma.ipynb"
   ]
  },
  {
   "cell_type": "code",
   "execution_count": 11,
   "id": "f33717c5-a430-4e6a-8d4b-ed1a63b04c5b",
   "metadata": {},
   "outputs": [
    {
     "name": "stdout",
     "output_type": "stream",
     "text": [
      "Strehl Ratio: 0.000000000069960365\n",
      "Strehl Ratio: 0.000000018742362581\n"
     ]
    }
   ],
   "source": [
    "import numpy as np\n",
    "\n",
    "def calculate_strehl_ratio(observed_psf, telescope_diameter, wavelength):\n",
    "    \"\"\"\n",
    "    Calculate the Strehl ratio from an observed PSF.\n",
    "\n",
    "    Parameters:\n",
    "        observed_psf (numpy.ndarray): 2D array of the observed PSF intensity.\n",
    "        telescope_diameter (float): Diameter of the telescope aperture (meters).\n",
    "        wavelength (float): Observation wavelength (meters).\n",
    "\n",
    "    Returns:\n",
    "        float: Calculated Strehl ratio.\n",
    "    \"\"\"\n",
    "    # Observed peak intensity\n",
    "    I_observed = np.max(observed_psf)\n",
    "    \n",
    "    # Diffraction-limited FWHM\n",
    "    fwhm_diffraction = 1.22 * (wavelength / telescope_diameter)\n",
    "    \n",
    "    # Diffraction-limited peak intensity\n",
    "    I_diffraction = 1 / (np.pi * (fwhm_diffraction / 2)**2)\n",
    "    \n",
    "    # Strehl ratio\n",
    "    strehl_ratio = I_observed / I_diffraction\n",
    "    return strehl_ratio\n",
    "\n",
    "# Example usage\n",
    "telescope_diameter = 1.0  # Telescope aperture in meters\n",
    "wavelength = 500e-9       # Wavelength in meters (e.g., 500 nm)\n",
    "observed_psf = np.random.normal(100, 10, size=(50, 50))  # Simulated PSF with noise\n",
    "strehl = calculate_strehl_ratio(get_image_from_fits(\"C:\\\\Users\\\\hp\\\\Desktop\\\\04A\\\\İşlenmemiş\\\\eski\\\\jckz03010_drz.fits\"), telescope_diameter, wavelength)\n",
    "print(f\"Strehl Ratio: {strehl:.18f}\")\n",
    "\n",
    "telescope_diameter = 1.5  # Telescope aperture in meters\n",
    "wavelength = 500e-9       # Wavelength in meters (e.g., 500 nm)\n",
    "observed_psf = np.random.normal(100, 10, size=(50, 50))  # Simulated PSF with noise\n",
    "strehl = calculate_strehl_ratio(get_image_from_fits(\"C:\\\\Users\\\\hp\\\\Desktop\\\\04A\\\\TUG\\\\915\\\\Image\\\\2017-05-03\\\\T100_915_DATE_2017-05-03_TIME_23.42.30.99_light.fit\"), telescope_diameter, wavelength)\n",
    "print(f\"Strehl Ratio: {strehl:.18f}\")\n"
   ]
  },
  {
   "cell_type": "code",
   "execution_count": null,
   "id": "20a1d793-8727-4161-8067-270ac49e1359",
   "metadata": {},
   "outputs": [],
   "source": []
  }
 ],
 "metadata": {
  "kernelspec": {
   "display_name": "Python 3 (ipykernel)",
   "language": "python",
   "name": "python3"
  },
  "language_info": {
   "codemirror_mode": {
    "name": "ipython",
    "version": 3
   },
   "file_extension": ".py",
   "mimetype": "text/x-python",
   "name": "python",
   "nbconvert_exporter": "python",
   "pygments_lexer": "ipython3",
   "version": "3.8.18"
  }
 },
 "nbformat": 4,
 "nbformat_minor": 5
}
