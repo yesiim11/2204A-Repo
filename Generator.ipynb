{
 "cells": [
  {
   "cell_type": "code",
   "execution_count": 1,
   "id": "cd07c4e2-43bb-4331-a430-7abdddb8a08f",
   "metadata": {},
   "outputs": [],
   "source": [
    "from random import random, sample\n",
    "import numpy as np\n",
    "\n",
    "from astropy import coordinates\n",
    "from astropy.io import fits\n",
    "from astroquery.mast import Observations\n",
    "from astropy.table import vstack, Table\n",
    "\n",
    "import matplotlib.pyplot as plt\n",
    "from PIL import Image\n",
    "\n",
    "import sys\n",
    "import os\n",
    "import time\n",
    "import re\n",
    "import json\n",
    " \n",
    "import requests\n",
    "from urllib.parse import quote as urlencode"
   ]
  },
  {
   "cell_type": "code",
   "execution_count": null,
   "id": "afdd2ae6-161e-4878-852f-825ebb361fe0",
   "metadata": {},
   "outputs": [],
   "source": [
    "def get_filepaths(dir:str):\n",
    "    \n",
    "    files = []\n",
    "    for filename in os.listdir(dir)\n",
    "        files.append(os.path.join(dir, filename))\n",
    "\n",
    "    return files"
   ]
  },
  {
   "cell_type": "code",
   "execution_count": null,
   "id": "daf8ca86-f373-423e-b02c-aed39b0ef3cd",
   "metadata": {},
   "outputs": [],
   "source": [
    "def generator(filepaths: list, batch_size: int):\n",
    "    \n",
    "    samples = sample(filepaths, batch_size)\n",
    "\n",
    "    return_x_arr = []\n",
    "    return_y_arr = []\n",
    "    for smpl in samples:\n",
    "        arrs = np.load(smpl)\n",
    "\n",
    "        return_x_arr.append(arrs[0])\n",
    "        return_y_arr.append(arrs[1])\n",
    "\n",
    "    return_x_arr = np.array(return_x_arr)\n",
    "    return_y_arr = np.array(return_y_arr)\n",
    "\n",
    "    return return_x_arr, return_y_arr"
   ]
  }
 ],
 "metadata": {
  "kernelspec": {
   "display_name": "Python 3 (ipykernel)",
   "language": "python",
   "name": "python3"
  },
  "language_info": {
   "codemirror_mode": {
    "name": "ipython",
    "version": 3
   },
   "file_extension": ".py",
   "mimetype": "text/x-python",
   "name": "python",
   "nbconvert_exporter": "python",
   "pygments_lexer": "ipython3",
   "version": "3.8.18"
  }
 },
 "nbformat": 4,
 "nbformat_minor": 5
}
