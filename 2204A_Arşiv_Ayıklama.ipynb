{
 "cells": [
  {
   "cell_type": "code",
   "execution_count": 27,
   "id": "d2c967fb-8eec-4306-a42e-b7f2515c1900",
   "metadata": {},
   "outputs": [],
   "source": [
    "def extract_preferred_file_from_nested_gzip(zip_path, obs_id, output_dir):\n",
    "    \"\"\"\n",
    "    Extracts a specific file from the preferred .gzip file (_drc > _drz) \n",
    "    located inside a folder hierarchy in a .zip archive.\n",
    "\n",
    "    :param zip_path: Path to the outer .zip archive.\n",
    "    :param folder_hierarchy: Folder path inside the .zip archive where .gzip files are located.\n",
    "    :param target_file: File to extract from the .gzip archive.\n",
    "    :param output_dir: Directory where the extracted file will be saved.\n",
    "    \"\"\"\n",
    "\n",
    "    folder_hierarchy = \"/3-PRODUCT\"\n",
    "    target_file = obs_id + \".fits\"\n",
    "    \n",
    "    try:\n",
    "        # Step 1: Open the outer .zip file\n",
    "        with zipfile.ZipFile(zip_path, 'r') as zip_ref:\n",
    "            # List all files in the folder hierarchy\n",
    "            files_in_folder = [name for name in zip_ref.namelist() if (folder_hierarchy in name) and name.endswith('.gz')]\n",
    "            print(files_in_folder)\n",
    "\n",
    "            if not files_in_folder:\n",
    "                print(f\"No .gzip files found in '{folder_hierarchy}' inside the .zip archive.\")\n",
    "                return\n",
    "\n",
    "            # Step 2: Prefer _drc files first, then _drz files\n",
    "            preferred_gzip = None\n",
    "            for file_name in files_in_folder:\n",
    "                if '_drc' in file_name:\n",
    "                    preferred_gzip = file_name\n",
    "                    break\n",
    "            if not preferred_gzip:\n",
    "                for file_name in files_in_folder:\n",
    "                    if '_drz' in file_name:\n",
    "                        preferred_gzip = file_name\n",
    "                        break\n",
    "            \n",
    "            # If no _drc or _drz file found, print an error\n",
    "            if not preferred_gzip:\n",
    "                print(f\"No suitable .gzip file (_drc or _drz) found in '{folder_hierarchy}' inside the .zip archive.\")\n",
    "                return\n",
    "\n",
    "            print(f\"Using preferred gzip file: {preferred_gzip}\")\n",
    "\n",
    "            # Extract the preferred .gzip file to a temporary location\n",
    "            temp_gzip_path = os.path.join(output_dir, os.path.basename(preferred_gzip))\n",
    "            zip_ref.extract(preferred_gzip, output_dir)\n",
    "\n",
    "            # Adjust the path to include the folder hierarchy\n",
    "            temp_gzip_path = os.path.join(output_dir, preferred_gzip)\n",
    "\n",
    "            # Step 3: Open the .gzip file\n",
    "            with gzip.open(temp_gzip_path, 'rb') as gzip_file:\n",
    "                # Read the contents of the .gzip file\n",
    "                content = gzip_file.read()\n",
    "\n",
    "                # Save the extracted content as the target file\n",
    "                target_file_path = os.path.join(output_dir, target_file)\n",
    "                with open(target_file_path, 'wb') as output_file:\n",
    "                    output_file.write(content)\n",
    "\n",
    "                print(f\"File '{target_file}' extracted from '{preferred_gzip}' to '{output_dir}'.\")\n",
    "\n",
    "            # Optionally, delete the temporary .gzip file\n",
    "            os.remove(temp_gzip_path)\n",
    "\n",
    "    except FileNotFoundError:\n",
    "        print(f\"Archive '{zip_path}' not found.\")\n",
    "    except zipfile.BadZipFile:\n",
    "        print(f\"Error: '{zip_path}' is not a valid zip file.\")\n",
    "    except gzip.BadGzipFile:\n",
    "        print(f\"Error: Selected gzip file is not valid.\")\n",
    "    except Exception as e:\n",
    "        print(f\"An error occurred: {e}\")"
   ]
  },
  {
   "cell_type": "code",
   "execution_count": 28,
   "id": "589cff1d-a65d-42d4-9a37-20f1ad50a537",
   "metadata": {},
   "outputs": [
    {
     "name": "stdout",
     "output_type": "stream",
     "text": [
      "['jbt1910/3-PRODUCT/jbt191010_drz.fits.gz', 'jbt1910/3-PRODUCT/jbt191010_drc.fits.gz', 'jbt1910/3-PRODUCT/jbt191010_asn.fits.gz']\n",
      "Using preferred gzip file: jbt1910/3-PRODUCT/jbt191010_drc.fits.gz\n",
      "File 'jbt191010.fits' extracted from 'jbt1910/3-PRODUCT/jbt191010_drc.fits.gz' to 'C:\\Users\\hp\\Desktop\\04A\\Yeni klasör\\'.\n"
     ]
    }
   ],
   "source": [
    "\"\"\"\n",
    "# Example usage\n",
    "zip_path = \"outer_archive.zip\"      # Path to the outer .zip file\n",
    "folder_hierarchy = \"folder1/folder2\"  # Folder hierarchy inside the .zip\n",
    "target_file = \"extracted_file.txt\"  # The file to extract from the .gzip\n",
    "output_dir = \"./output\"             # Directory to save the extracted file\n",
    "\n",
    "# Ensure the output directory exists\n",
    "os.makedirs(output_dir, exist_ok=True)\n",
    "\n",
    "extract_preferred_file_from_nested_gzip(\"C:\\\\Users\\\\hp\\\\Desktop\\\\04A\\\\Yeni klasör\\\\jbt191010.zip\", \"jbt191010\", \"C:\\\\Users\\\\hp\\\\Desktop\\\\04A\\\\Yeni klasör\\\\\")\n",
    "\"\"\""
   ]
  },
  {
   "cell_type": "code",
   "execution_count": null,
   "id": "c79fbb8b-098c-4f35-a84a-988a0a462ebd",
   "metadata": {},
   "outputs": [],
   "source": []
  }
 ],
 "metadata": {
  "kernelspec": {
   "display_name": "Python 3 (ipykernel)",
   "language": "python",
   "name": "python3"
  },
  "language_info": {
   "codemirror_mode": {
    "name": "ipython",
    "version": 3
   },
   "file_extension": ".py",
   "mimetype": "text/x-python",
   "name": "python",
   "nbconvert_exporter": "python",
   "pygments_lexer": "ipython3",
   "version": "3.8.18"
  }
 },
 "nbformat": 4,
 "nbformat_minor": 5
}
