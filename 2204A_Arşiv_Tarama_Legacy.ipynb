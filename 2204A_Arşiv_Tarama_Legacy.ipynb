{
 "cells": [
  {
   "cell_type": "code",
   "execution_count": 1,
   "id": "50ddcf31-a6b5-44cd-8488-74cb27811605",
   "metadata": {},
   "outputs": [],
   "source": [
    "from random import random, sample\n",
    "import numpy as np\n",
    "\n",
    "from astropy import coordinates\n",
    "from astroquery.esa.hubble import ESAHubbleClass\n",
    "from astropy.io import fits\n",
    "from astroquery.mast import Observations\n",
    "from astropy.table import vstack, Table\n",
    "\n",
    "import matplotlib.pyplot as plt\n",
    "from PIL import Image\n",
    "\n",
    "import sys\n",
    "import os\n",
    "import time\n",
    "import re\n",
    "import json\n",
    " \n",
    "import requests\n",
    "from urllib.parse import quote as urlencode"
   ]
  },
  {
   "cell_type": "code",
   "execution_count": 2,
   "id": "21dcb5e3-0cbb-4955-ad32-ad613b04afb8",
   "metadata": {},
   "outputs": [],
   "source": [
    "def query_hubble(coords: list):\n",
    "\n",
    "    prod_table = None\n",
    "\n",
    "    flag = True\n",
    "    #Verilen parametrelerle 5 arcsec yarıçapında arama\n",
    "    for i in range(len(coords)):\n",
    "\n",
    "        table = Observations.query_region(str(coords[i].ra) + \" \" + str(coords[i].dec), radius = \"2.0 deg\", pagesize = 10000, page = 1)\n",
    "\n",
    "        # Filter results to include only HST observations (excluding HLA), optical, image data, and science intent\n",
    "        filtered_obs = table[\n",
    "            (table['obs_collection'] == 'HST') &\n",
    "            (table['dataproduct_type'] == 'image') &  # Image data\n",
    "            (table['wavelength_region'] == 'OPTICAL') &  # Optical wavelength\n",
    "            (table['intentType'] == 'science') &  # Science intent\n",
    "            (table['dataRights'] == 'PUBLIC')  # Exclude HLA data\n",
    "        ]\n",
    "\n",
    "        if(len(filtered_obs) != 0):\n",
    "            temp_products = Observations.get_product_list(filtered_obs)\n",
    "            temp_products = temp_products[temp_products[\"productType\"] == \"SCIENCE\"]\n",
    "            temp_products = temp_products[temp_products[\"calib_level\"] == 3]\n",
    "            temp_products = temp_products[temp_products[\"productSubGroupDescription\"] == \"DRZ\"]\n",
    "            temp_products = temp_products[temp_products[\"obs_collection\"] != \"HLA\"]\n",
    "            temp_products = temp_products[temp_products[\"filters\"] != \"detection\"]\n",
    "            temp_products = temp_products[temp_products[\"filters\"] != \"DETECTION\"]\n",
    "\n",
    "            \n",
    "            if flag:\n",
    "                flag = False\n",
    "                prod_table = temp_products\n",
    "        \n",
    "            else:\n",
    "                prod_table = vstack([prod_table, temp_products])\n",
    "        \n",
    "        else:\n",
    "            print(\"Gözlem verisi yok!\")\n",
    "\n",
    "        print(i)\n",
    "\n",
    "        del table\n",
    "\n",
    "        print(len(prod_table))\n",
    "\n",
    "    return prod_table"
   ]
  },
  {
   "cell_type": "code",
   "execution_count": null,
   "id": "258b17c4-2974-42e5-af68-819396dd5890",
   "metadata": {},
   "outputs": [],
   "source": []
  }
 ],
 "metadata": {
  "kernelspec": {
   "display_name": "Python 3 (ipykernel)",
   "language": "python",
   "name": "python3"
  },
  "language_info": {
   "codemirror_mode": {
    "name": "ipython",
    "version": 3
   },
   "file_extension": ".py",
   "mimetype": "text/x-python",
   "name": "python",
   "nbconvert_exporter": "python",
   "pygments_lexer": "ipython3",
   "version": "3.8.18"
  }
 },
 "nbformat": 4,
 "nbformat_minor": 5
}
